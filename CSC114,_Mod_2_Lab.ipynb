{
  "nbformat": 4,
  "nbformat_minor": 0,
  "metadata": {
    "colab": {
      "provenance": [],
      "include_colab_link": true
    },
    "kernelspec": {
      "name": "python3",
      "display_name": "Python 3"
    },
    "language_info": {
      "name": "python"
    }
  },
  "cells": [
    {
      "cell_type": "markdown",
      "metadata": {
        "id": "view-in-github",
        "colab_type": "text"
      },
      "source": [
        "<a href=\"https://colab.research.google.com/github/brian3245/CSC154_BRIANAGUIRRE/blob/main/CSC114%2C_Mod_2_Lab.ipynb\" target=\"_parent\"><img src=\"https://colab.research.google.com/assets/colab-badge.svg\" alt=\"Open In Colab\"/></a>"
      ]
    },
    {
      "cell_type": "markdown",
      "source": [
        "# Lab Assignment: Introduction to NumPy, Aggregations, and Universal Functions\n",
        "\n",
        "# CSC-114\n",
        "\n",
        "In these lab assignments, I will provide a file for you, as you can see here, and will have code cells present where I want you to insert your code. You can add / remove code cells as you see fit. Just be sure to answer the question(s) posed.\n",
        "\n",
        "**Note: be sure to turn in notebook with code cells executed or it will be an automatic 0.**"
      ],
      "metadata": {
        "id": "kGfamLXO5aUU"
      }
    },
    {
      "cell_type": "markdown",
      "source": [
        "## Task 1: Import Numpy and alias as np."
      ],
      "metadata": {
        "id": "fWudRJND5gWU"
      }
    },
    {
      "cell_type": "code",
      "source": [
        "import numpy as np"
      ],
      "metadata": {
        "id": "UZPyq5qr6IUV"
      },
      "execution_count": 1,
      "outputs": []
    },
    {
      "cell_type": "markdown",
      "source": [
        "## Task 2: Create & print a NumPy array of integers from 1 to 20."
      ],
      "metadata": {
        "id": "HfJO8T846I8k"
      }
    },
    {
      "cell_type": "code",
      "source": [
        "x = np.arange(1, 21)\n",
        "print(x)\n"
      ],
      "metadata": {
        "id": "yj2L3qWr6NrM",
        "colab": {
          "base_uri": "https://localhost:8080/"
        },
        "outputId": "e5135f0d-bc44-43cc-ceca-e5d8e76ddffb"
      },
      "execution_count": 3,
      "outputs": [
        {
          "output_type": "stream",
          "name": "stdout",
          "text": [
            "[ 1  2  3  4  5  6  7  8  9 10 11 12 13 14 15 16 17 18 19 20]\n"
          ]
        }
      ]
    },
    {
      "cell_type": "markdown",
      "source": [
        "## Task 3: Perform & print basic arithmetic operations (+, -, *, /) on said array."
      ],
      "metadata": {
        "id": "qzwmJssX6Tqk"
      }
    },
    {
      "cell_type": "code",
      "source": [
        "addition = x + 2\n",
        "subtraction = x - 2\n",
        "multiplication = x * 2\n",
        "division = x / 2\n",
        "print(\"Addition (+2): \", addition)\n",
        "print(\"Subtraction (-2): \", subtraction)\n",
        "print(\"Multiplication (*2): \", multiplication)\n",
        "print(\"Division (/2): \", division)"
      ],
      "metadata": {
        "id": "vt3QxiPy6Z9W",
        "colab": {
          "base_uri": "https://localhost:8080/"
        },
        "outputId": "781465a5-2dc4-42cf-dbbb-8018d3330586"
      },
      "execution_count": 5,
      "outputs": [
        {
          "output_type": "stream",
          "name": "stdout",
          "text": [
            "Addition (+2):  [ 3  4  5  6  7  8  9 10 11 12 13 14 15 16 17 18 19 20 21 22]\n",
            "Subtraction (-2):  [-1  0  1  2  3  4  5  6  7  8  9 10 11 12 13 14 15 16 17 18]\n",
            "Multiplication (*2):  [ 2  4  6  8 10 12 14 16 18 20 22 24 26 28 30 32 34 36 38 40]\n",
            "Division (/2):  [ 0.5  1.   1.5  2.   2.5  3.   3.5  4.   4.5  5.   5.5  6.   6.5  7.\n",
            "  7.5  8.   8.5  9.   9.5 10. ]\n"
          ]
        }
      ]
    },
    {
      "cell_type": "markdown",
      "source": [
        "## Task 4: Calculate & print sum, mean, minimum, standard deviation, and maximum of said array."
      ],
      "metadata": {
        "id": "tVm2XxVG6cRT"
      }
    },
    {
      "cell_type": "code",
      "source": [
        "sumx = np.sum(x)\n",
        "meanx = np.mean(x)\n",
        "minx = np.min(x)\n",
        "stdx = np.std(x)\n",
        "maxx = np.max(x)\n",
        "print(\"Sum: \", sumx)\n",
        "print(\"Mean: \", meanx)\n",
        "print(\"Min: \", minx)\n",
        "print(\"Standard Deviation: \", stdx)\n",
        "print(\"Max: \", maxx)"
      ],
      "metadata": {
        "id": "DKqfnlNB6k_o",
        "colab": {
          "base_uri": "https://localhost:8080/"
        },
        "outputId": "4f00934a-0fca-4b97-f518-6d1af2beb923"
      },
      "execution_count": 7,
      "outputs": [
        {
          "output_type": "stream",
          "name": "stdout",
          "text": [
            "Sum:  210\n",
            "Mean:  10.5\n",
            "Min:  1\n",
            "Standard Deviation:  5.766281297335398\n",
            "Max:  20\n"
          ]
        }
      ]
    },
    {
      "cell_type": "markdown",
      "source": [
        "## Task 5: Use ufuncs to calculate the square root, square, and exponent of each element in said array."
      ],
      "metadata": {
        "id": "yq8lvdfE6lba"
      }
    },
    {
      "cell_type": "code",
      "source": [
        "sqrt_x = np.sqrt(x)\n",
        "square_x = np.square(x)\n",
        "exp_x = np.exp(x)\n",
        "print(\"Square Root: \", sqrt_x)\n",
        "print(\"Square: \", square_x)\n",
        "print(\"Exponent: \", exp_x)"
      ],
      "metadata": {
        "id": "Dm4fYAGn6-h6",
        "colab": {
          "base_uri": "https://localhost:8080/"
        },
        "outputId": "77b6f029-7d5c-4f1a-9851-48c679c072d1"
      },
      "execution_count": 8,
      "outputs": [
        {
          "output_type": "stream",
          "name": "stdout",
          "text": [
            "Square Root:  [1.         1.41421356 1.73205081 2.         2.23606798 2.44948974\n",
            " 2.64575131 2.82842712 3.         3.16227766 3.31662479 3.46410162\n",
            " 3.60555128 3.74165739 3.87298335 4.         4.12310563 4.24264069\n",
            " 4.35889894 4.47213595]\n",
            "Square:  [  1   4   9  16  25  36  49  64  81 100 121 144 169 196 225 256 289 324\n",
            " 361 400]\n",
            "Exponent:  [2.71828183e+00 7.38905610e+00 2.00855369e+01 5.45981500e+01\n",
            " 1.48413159e+02 4.03428793e+02 1.09663316e+03 2.98095799e+03\n",
            " 8.10308393e+03 2.20264658e+04 5.98741417e+04 1.62754791e+05\n",
            " 4.42413392e+05 1.20260428e+06 3.26901737e+06 8.88611052e+06\n",
            " 2.41549528e+07 6.56599691e+07 1.78482301e+08 4.85165195e+08]\n"
          ]
        }
      ]
    },
    {
      "cell_type": "markdown",
      "source": [
        "## Task 6: Create a new NumPy array of random integers between 1 and 100 with a shape of 10x10. Calculate & print the sum of each column in this array."
      ],
      "metadata": {
        "id": "XwLuYvX47BJC"
      }
    },
    {
      "cell_type": "code",
      "source": [
        "y = np.random.randint(1, 101, size=(10, 10))\n",
        "sum_y = np.sum(y, axis=0)\n",
        "print(\"Sum of each column: \", sum_y)"
      ],
      "metadata": {
        "id": "FrO1n9Rq7KMK",
        "colab": {
          "base_uri": "https://localhost:8080/"
        },
        "outputId": "00196cb8-08f2-413c-fe70-da1e76976788"
      },
      "execution_count": 9,
      "outputs": [
        {
          "output_type": "stream",
          "name": "stdout",
          "text": [
            "Sum of each column:  [473 739 391 450 455 509 602 623 531 517]\n"
          ]
        }
      ]
    },
    {
      "cell_type": "markdown",
      "source": [
        "## Task 7: find & print the transpose of the array."
      ],
      "metadata": {
        "id": "2mkwImb67ocS"
      }
    },
    {
      "cell_type": "code",
      "source": [
        "transpose_y = np.transpose(y)\n",
        "print(\"Transpose: \\n\", transpose_y)"
      ],
      "metadata": {
        "id": "xaDbQOsk7rbX",
        "colab": {
          "base_uri": "https://localhost:8080/"
        },
        "outputId": "f4fa6dc6-5ddf-4b75-d069-1fe82e627e28"
      },
      "execution_count": 14,
      "outputs": [
        {
          "output_type": "stream",
          "name": "stdout",
          "text": [
            "Transpose: \n",
            " [[ 53   7  80   5  58  41  61  69   2  97]\n",
            " [ 52  87  94  95   4  85  38  98  99  87]\n",
            " [ 75  95  27   7  27   6  87   6  29  32]\n",
            " [ 98  24  61  20  66  62  25   5  51  38]\n",
            " [ 55 100  56   6  63  31  52  42   8  42]\n",
            " [ 77  62  69  13  74  27  47  62  51  27]\n",
            " [  5  99  50  91  23  72  64  45  74  79]\n",
            " [ 90  71  68  20  35 100  68 100  65   6]\n",
            " [ 69  45  23  65  32  33  99  76  55  34]\n",
            " [ 76  52  54  37  50  80  46  12  99  11]]\n"
          ]
        }
      ]
    },
    {
      "cell_type": "markdown",
      "source": [
        "## Task 8: Using the linalg module in NumPy, calculate and print the determinant of this matrix."
      ],
      "metadata": {
        "id": "16oW7N-K7ryC"
      }
    },
    {
      "cell_type": "code",
      "source": [
        "np.linalg.det(y)\n",
        "print(\"Determinant: \", np.linalg.det(y))\n"
      ],
      "metadata": {
        "id": "SsPQkeiA7yVj",
        "colab": {
          "base_uri": "https://localhost:8080/"
        },
        "outputId": "6ef418c2-9217-4d96-f40c-e1df4f622c58"
      },
      "execution_count": 15,
      "outputs": [
        {
          "output_type": "stream",
          "name": "stdout",
          "text": [
            "Determinant:  3.5576219971632755e+17\n"
          ]
        }
      ]
    },
    {
      "cell_type": "code",
      "source": [],
      "metadata": {
        "id": "lF4oDUS5QcEf"
      },
      "execution_count": null,
      "outputs": []
    }
  ]
}